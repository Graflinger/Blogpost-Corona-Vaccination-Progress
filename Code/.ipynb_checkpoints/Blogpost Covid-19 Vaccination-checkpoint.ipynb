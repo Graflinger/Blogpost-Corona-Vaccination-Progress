{
 "cells": [
  {
   "cell_type": "markdown",
   "metadata": {},
   "source": [
    "# What factors do influence the vaccination rate for covid-19?\n",
    "\n",
    "This analysis aims to show whether there is a relationship between various factors and progress in coronavirus vaccination. Factors examined include classic demographic data from UNESCO, the happiness score from the World Happiness Report, and the overall pandemic situation.\n",
    "\n",
    "In the following, the CRIS-DM methon will be applied\n",
    "\n",
    "## Business understanding\n",
    "\n",
    "To get a deeper understanding of the realationship between the obsverved datasets, I want to answer following questions:\n",
    "\n",
    "- Is there a connection between pandemic status (how many infected/deaths) and vaccination progress?\n",
    "- Is the happiness Score affecting the vaccination situation?\n",
    "- Does GDP per capita influence vaccination coverage?\n",
    "- Does the continent play a role?\n"
   ]
  },
  {
   "cell_type": "markdown",
   "metadata": {},
   "source": [
    "## Data Understanding"
   ]
  },
  {
   "cell_type": "code",
   "execution_count": 62,
   "metadata": {},
   "outputs": [],
   "source": [
    "import pandas as pd\n",
    "import matplotlib.pyplot as plt\n",
    "import seaborn as sns\n",
    "\n",
    "#loading all datasets\n",
    "\n",
    "#vaccination\n",
    "df_vac = pd.read_csv(\"../Data/COVID-19 World Vaccination Progress/country_vaccinations.csv\")\n",
    "\n",
    "#hapiness\n",
    "df_hap = pd.read_csv(\"../Data/Hapiness Report Kaggle/2019.csv\")\n",
    "\n",
    "# https://ourworldindata.org/coronavirus-data\n",
    "#pandemic situation\n",
    "df_pan = pd.read_csv(\"../Data/Covid 19 Dataset/owid-covid-data.csv\")\n",
    "\n",
    "#demographic\n",
    "df_dem = pd.read_csv(\"../Data/DEMOGRAPHIC AND SOCIO-ECONOMIC (UNESCO) Kaggle/DEMO_DS_29112019163028002.csv\")"
   ]
  },
  {
   "cell_type": "code",
   "execution_count": 21,
   "metadata": {},
   "outputs": [
    {
     "data": {
      "text/html": [
       "<div>\n",
       "<style scoped>\n",
       "    .dataframe tbody tr th:only-of-type {\n",
       "        vertical-align: middle;\n",
       "    }\n",
       "\n",
       "    .dataframe tbody tr th {\n",
       "        vertical-align: top;\n",
       "    }\n",
       "\n",
       "    .dataframe thead th {\n",
       "        text-align: right;\n",
       "    }\n",
       "</style>\n",
       "<table border=\"1\" class=\"dataframe\">\n",
       "  <thead>\n",
       "    <tr style=\"text-align: right;\">\n",
       "      <th></th>\n",
       "      <th>country</th>\n",
       "      <th>iso_code</th>\n",
       "      <th>date</th>\n",
       "      <th>total_vaccinations</th>\n",
       "      <th>people_vaccinated</th>\n",
       "      <th>people_fully_vaccinated</th>\n",
       "      <th>daily_vaccinations_raw</th>\n",
       "      <th>daily_vaccinations</th>\n",
       "      <th>total_vaccinations_per_hundred</th>\n",
       "      <th>people_vaccinated_per_hundred</th>\n",
       "      <th>people_fully_vaccinated_per_hundred</th>\n",
       "      <th>daily_vaccinations_per_million</th>\n",
       "      <th>vaccines</th>\n",
       "      <th>source_name</th>\n",
       "      <th>source_website</th>\n",
       "    </tr>\n",
       "  </thead>\n",
       "  <tbody>\n",
       "    <tr>\n",
       "      <th>0</th>\n",
       "      <td>Albania</td>\n",
       "      <td>ALB</td>\n",
       "      <td>2021-01-10</td>\n",
       "      <td>0.0</td>\n",
       "      <td>0.0</td>\n",
       "      <td>NaN</td>\n",
       "      <td>NaN</td>\n",
       "      <td>NaN</td>\n",
       "      <td>0.0</td>\n",
       "      <td>0.0</td>\n",
       "      <td>NaN</td>\n",
       "      <td>NaN</td>\n",
       "      <td>Pfizer/BioNTech</td>\n",
       "      <td>Ministry of Health</td>\n",
       "      <td>https://shendetesia.gov.al/covid19-ministria-e...</td>\n",
       "    </tr>\n",
       "    <tr>\n",
       "      <th>1</th>\n",
       "      <td>Albania</td>\n",
       "      <td>ALB</td>\n",
       "      <td>2021-01-11</td>\n",
       "      <td>NaN</td>\n",
       "      <td>NaN</td>\n",
       "      <td>NaN</td>\n",
       "      <td>NaN</td>\n",
       "      <td>64.0</td>\n",
       "      <td>NaN</td>\n",
       "      <td>NaN</td>\n",
       "      <td>NaN</td>\n",
       "      <td>22.0</td>\n",
       "      <td>Pfizer/BioNTech</td>\n",
       "      <td>Ministry of Health</td>\n",
       "      <td>https://shendetesia.gov.al/covid19-ministria-e...</td>\n",
       "    </tr>\n",
       "    <tr>\n",
       "      <th>2</th>\n",
       "      <td>Albania</td>\n",
       "      <td>ALB</td>\n",
       "      <td>2021-01-12</td>\n",
       "      <td>128.0</td>\n",
       "      <td>128.0</td>\n",
       "      <td>NaN</td>\n",
       "      <td>NaN</td>\n",
       "      <td>64.0</td>\n",
       "      <td>0.0</td>\n",
       "      <td>0.0</td>\n",
       "      <td>NaN</td>\n",
       "      <td>22.0</td>\n",
       "      <td>Pfizer/BioNTech</td>\n",
       "      <td>Ministry of Health</td>\n",
       "      <td>https://shendetesia.gov.al/covid19-ministria-e...</td>\n",
       "    </tr>\n",
       "  </tbody>\n",
       "</table>\n",
       "</div>"
      ],
      "text/plain": [
       "   country iso_code        date  total_vaccinations  people_vaccinated  \\\n",
       "0  Albania      ALB  2021-01-10                 0.0                0.0   \n",
       "1  Albania      ALB  2021-01-11                 NaN                NaN   \n",
       "2  Albania      ALB  2021-01-12               128.0              128.0   \n",
       "\n",
       "   people_fully_vaccinated  daily_vaccinations_raw  daily_vaccinations  \\\n",
       "0                      NaN                     NaN                 NaN   \n",
       "1                      NaN                     NaN                64.0   \n",
       "2                      NaN                     NaN                64.0   \n",
       "\n",
       "   total_vaccinations_per_hundred  people_vaccinated_per_hundred  \\\n",
       "0                             0.0                            0.0   \n",
       "1                             NaN                            NaN   \n",
       "2                             0.0                            0.0   \n",
       "\n",
       "   people_fully_vaccinated_per_hundred  daily_vaccinations_per_million  \\\n",
       "0                                  NaN                             NaN   \n",
       "1                                  NaN                            22.0   \n",
       "2                                  NaN                            22.0   \n",
       "\n",
       "          vaccines         source_name  \\\n",
       "0  Pfizer/BioNTech  Ministry of Health   \n",
       "1  Pfizer/BioNTech  Ministry of Health   \n",
       "2  Pfizer/BioNTech  Ministry of Health   \n",
       "\n",
       "                                      source_website  \n",
       "0  https://shendetesia.gov.al/covid19-ministria-e...  \n",
       "1  https://shendetesia.gov.al/covid19-ministria-e...  \n",
       "2  https://shendetesia.gov.al/covid19-ministria-e...  "
      ]
     },
     "execution_count": 21,
     "metadata": {},
     "output_type": "execute_result"
    }
   ],
   "source": [
    "#First of all, lets take a look at the vaccination progress dataset\n",
    "df_vac.head(3)"
   ]
  },
  {
   "cell_type": "code",
   "execution_count": 22,
   "metadata": {},
   "outputs": [
    {
     "data": {
      "text/plain": [
       "(4678, 15)"
      ]
     },
     "execution_count": 22,
     "metadata": {},
     "output_type": "execute_result"
    }
   ],
   "source": [
    "df_vac.shape"
   ]
  },
  {
   "cell_type": "code",
   "execution_count": 23,
   "metadata": {},
   "outputs": [
    {
     "data": {
      "text/plain": [
       "country                                0.000000\n",
       "date                                   0.000000\n",
       "vaccines                               0.000000\n",
       "source_name                            0.000000\n",
       "source_website                         0.000000\n",
       "daily_vaccinations                     0.034203\n",
       "daily_vaccinations_per_million         0.034203\n",
       "iso_code                               0.066695\n",
       "total_vaccinations                     0.347157\n",
       "total_vaccinations_per_hundred         0.347157\n",
       "people_vaccinated                      0.445276\n",
       "people_vaccinated_per_hundred          0.445276\n",
       "daily_vaccinations_raw                 0.449337\n",
       "people_fully_vaccinated                0.626764\n",
       "people_fully_vaccinated_per_hundred    0.626764\n",
       "dtype: float64"
      ]
     },
     "execution_count": 23,
     "metadata": {},
     "output_type": "execute_result"
    }
   ],
   "source": [
    "(df_vac.isnull().sum()/len(df_vac)).sort_values()"
   ]
  },
  {
   "cell_type": "markdown",
   "metadata": {},
   "source": [
    "### Interpration of the vaccination progress data set\n",
    "\n",
    "As we can see, the dataset displays the daily progress of vaccination for each country. Additionally the cumulative number of vaccinations is also tracked. In order to provide the best comparability, the columns referring to the numbers per hundred should be our main focus. "
   ]
  },
  {
   "cell_type": "code",
   "execution_count": 24,
   "metadata": {},
   "outputs": [
    {
     "data": {
      "text/html": [
       "<div>\n",
       "<style scoped>\n",
       "    .dataframe tbody tr th:only-of-type {\n",
       "        vertical-align: middle;\n",
       "    }\n",
       "\n",
       "    .dataframe tbody tr th {\n",
       "        vertical-align: top;\n",
       "    }\n",
       "\n",
       "    .dataframe thead th {\n",
       "        text-align: right;\n",
       "    }\n",
       "</style>\n",
       "<table border=\"1\" class=\"dataframe\">\n",
       "  <thead>\n",
       "    <tr style=\"text-align: right;\">\n",
       "      <th></th>\n",
       "      <th>Overall rank</th>\n",
       "      <th>Country or region</th>\n",
       "      <th>Score</th>\n",
       "      <th>GDP per capita</th>\n",
       "      <th>Social support</th>\n",
       "      <th>Healthy life expectancy</th>\n",
       "      <th>Freedom to make life choices</th>\n",
       "      <th>Generosity</th>\n",
       "      <th>Perceptions of corruption</th>\n",
       "    </tr>\n",
       "  </thead>\n",
       "  <tbody>\n",
       "    <tr>\n",
       "      <th>0</th>\n",
       "      <td>1</td>\n",
       "      <td>Finland</td>\n",
       "      <td>7.769</td>\n",
       "      <td>1.340</td>\n",
       "      <td>1.587</td>\n",
       "      <td>0.986</td>\n",
       "      <td>0.596</td>\n",
       "      <td>0.153</td>\n",
       "      <td>0.393</td>\n",
       "    </tr>\n",
       "    <tr>\n",
       "      <th>1</th>\n",
       "      <td>2</td>\n",
       "      <td>Denmark</td>\n",
       "      <td>7.600</td>\n",
       "      <td>1.383</td>\n",
       "      <td>1.573</td>\n",
       "      <td>0.996</td>\n",
       "      <td>0.592</td>\n",
       "      <td>0.252</td>\n",
       "      <td>0.410</td>\n",
       "    </tr>\n",
       "    <tr>\n",
       "      <th>2</th>\n",
       "      <td>3</td>\n",
       "      <td>Norway</td>\n",
       "      <td>7.554</td>\n",
       "      <td>1.488</td>\n",
       "      <td>1.582</td>\n",
       "      <td>1.028</td>\n",
       "      <td>0.603</td>\n",
       "      <td>0.271</td>\n",
       "      <td>0.341</td>\n",
       "    </tr>\n",
       "  </tbody>\n",
       "</table>\n",
       "</div>"
      ],
      "text/plain": [
       "   Overall rank Country or region  Score  GDP per capita  Social support  \\\n",
       "0             1           Finland  7.769           1.340           1.587   \n",
       "1             2           Denmark  7.600           1.383           1.573   \n",
       "2             3            Norway  7.554           1.488           1.582   \n",
       "\n",
       "   Healthy life expectancy  Freedom to make life choices  Generosity  \\\n",
       "0                    0.986                         0.596       0.153   \n",
       "1                    0.996                         0.592       0.252   \n",
       "2                    1.028                         0.603       0.271   \n",
       "\n",
       "   Perceptions of corruption  \n",
       "0                      0.393  \n",
       "1                      0.410  \n",
       "2                      0.341  "
      ]
     },
     "execution_count": 24,
     "metadata": {},
     "output_type": "execute_result"
    }
   ],
   "source": [
    "#now lets dive deeper into the happiness data set\n",
    "df_hap.head(3)"
   ]
  },
  {
   "cell_type": "code",
   "execution_count": 25,
   "metadata": {},
   "outputs": [
    {
     "data": {
      "text/plain": [
       "(156, 9)"
      ]
     },
     "execution_count": 25,
     "metadata": {},
     "output_type": "execute_result"
    }
   ],
   "source": [
    "df_hap.shape"
   ]
  },
  {
   "cell_type": "code",
   "execution_count": 26,
   "metadata": {},
   "outputs": [
    {
     "data": {
      "text/plain": [
       "Overall rank                    0.0\n",
       "Country or region               0.0\n",
       "Score                           0.0\n",
       "GDP per capita                  0.0\n",
       "Social support                  0.0\n",
       "Healthy life expectancy         0.0\n",
       "Freedom to make life choices    0.0\n",
       "Generosity                      0.0\n",
       "Perceptions of corruption       0.0\n",
       "dtype: float64"
      ]
     },
     "execution_count": 26,
     "metadata": {},
     "output_type": "execute_result"
    }
   ],
   "source": [
    "(df_hap.isnull().sum()/len(df_hap)).sort_values()"
   ]
  },
  {
   "cell_type": "markdown",
   "metadata": {},
   "source": [
    "### Interpration of the happiness data set\n",
    "\n",
    "This dateset is pretty straight forward. For each country, there is a happiness score and the single variables which contribute to them"
   ]
  },
  {
   "cell_type": "code",
   "execution_count": 27,
   "metadata": {},
   "outputs": [
    {
     "data": {
      "text/html": [
       "<div>\n",
       "<style scoped>\n",
       "    .dataframe tbody tr th:only-of-type {\n",
       "        vertical-align: middle;\n",
       "    }\n",
       "\n",
       "    .dataframe tbody tr th {\n",
       "        vertical-align: top;\n",
       "    }\n",
       "\n",
       "    .dataframe thead th {\n",
       "        text-align: right;\n",
       "    }\n",
       "</style>\n",
       "<table border=\"1\" class=\"dataframe\">\n",
       "  <thead>\n",
       "    <tr style=\"text-align: right;\">\n",
       "      <th></th>\n",
       "      <th>iso_code</th>\n",
       "      <th>continent</th>\n",
       "      <th>location</th>\n",
       "      <th>date</th>\n",
       "      <th>total_cases</th>\n",
       "      <th>new_cases</th>\n",
       "      <th>new_cases_smoothed</th>\n",
       "      <th>total_deaths</th>\n",
       "      <th>new_deaths</th>\n",
       "      <th>new_deaths_smoothed</th>\n",
       "      <th>...</th>\n",
       "      <th>gdp_per_capita</th>\n",
       "      <th>extreme_poverty</th>\n",
       "      <th>cardiovasc_death_rate</th>\n",
       "      <th>diabetes_prevalence</th>\n",
       "      <th>female_smokers</th>\n",
       "      <th>male_smokers</th>\n",
       "      <th>handwashing_facilities</th>\n",
       "      <th>hospital_beds_per_thousand</th>\n",
       "      <th>life_expectancy</th>\n",
       "      <th>human_development_index</th>\n",
       "    </tr>\n",
       "  </thead>\n",
       "  <tbody>\n",
       "    <tr>\n",
       "      <th>0</th>\n",
       "      <td>AFG</td>\n",
       "      <td>Asia</td>\n",
       "      <td>Afghanistan</td>\n",
       "      <td>2020-02-24</td>\n",
       "      <td>1.0</td>\n",
       "      <td>1.0</td>\n",
       "      <td>NaN</td>\n",
       "      <td>NaN</td>\n",
       "      <td>NaN</td>\n",
       "      <td>NaN</td>\n",
       "      <td>...</td>\n",
       "      <td>1803.987</td>\n",
       "      <td>NaN</td>\n",
       "      <td>597.029</td>\n",
       "      <td>9.59</td>\n",
       "      <td>NaN</td>\n",
       "      <td>NaN</td>\n",
       "      <td>37.746</td>\n",
       "      <td>0.5</td>\n",
       "      <td>64.83</td>\n",
       "      <td>0.511</td>\n",
       "    </tr>\n",
       "    <tr>\n",
       "      <th>1</th>\n",
       "      <td>AFG</td>\n",
       "      <td>Asia</td>\n",
       "      <td>Afghanistan</td>\n",
       "      <td>2020-02-25</td>\n",
       "      <td>1.0</td>\n",
       "      <td>0.0</td>\n",
       "      <td>NaN</td>\n",
       "      <td>NaN</td>\n",
       "      <td>NaN</td>\n",
       "      <td>NaN</td>\n",
       "      <td>...</td>\n",
       "      <td>1803.987</td>\n",
       "      <td>NaN</td>\n",
       "      <td>597.029</td>\n",
       "      <td>9.59</td>\n",
       "      <td>NaN</td>\n",
       "      <td>NaN</td>\n",
       "      <td>37.746</td>\n",
       "      <td>0.5</td>\n",
       "      <td>64.83</td>\n",
       "      <td>0.511</td>\n",
       "    </tr>\n",
       "    <tr>\n",
       "      <th>2</th>\n",
       "      <td>AFG</td>\n",
       "      <td>Asia</td>\n",
       "      <td>Afghanistan</td>\n",
       "      <td>2020-02-26</td>\n",
       "      <td>1.0</td>\n",
       "      <td>0.0</td>\n",
       "      <td>NaN</td>\n",
       "      <td>NaN</td>\n",
       "      <td>NaN</td>\n",
       "      <td>NaN</td>\n",
       "      <td>...</td>\n",
       "      <td>1803.987</td>\n",
       "      <td>NaN</td>\n",
       "      <td>597.029</td>\n",
       "      <td>9.59</td>\n",
       "      <td>NaN</td>\n",
       "      <td>NaN</td>\n",
       "      <td>37.746</td>\n",
       "      <td>0.5</td>\n",
       "      <td>64.83</td>\n",
       "      <td>0.511</td>\n",
       "    </tr>\n",
       "    <tr>\n",
       "      <th>3</th>\n",
       "      <td>AFG</td>\n",
       "      <td>Asia</td>\n",
       "      <td>Afghanistan</td>\n",
       "      <td>2020-02-27</td>\n",
       "      <td>1.0</td>\n",
       "      <td>0.0</td>\n",
       "      <td>NaN</td>\n",
       "      <td>NaN</td>\n",
       "      <td>NaN</td>\n",
       "      <td>NaN</td>\n",
       "      <td>...</td>\n",
       "      <td>1803.987</td>\n",
       "      <td>NaN</td>\n",
       "      <td>597.029</td>\n",
       "      <td>9.59</td>\n",
       "      <td>NaN</td>\n",
       "      <td>NaN</td>\n",
       "      <td>37.746</td>\n",
       "      <td>0.5</td>\n",
       "      <td>64.83</td>\n",
       "      <td>0.511</td>\n",
       "    </tr>\n",
       "  </tbody>\n",
       "</table>\n",
       "<p>4 rows × 59 columns</p>\n",
       "</div>"
      ],
      "text/plain": [
       "  iso_code continent     location        date  total_cases  new_cases  \\\n",
       "0      AFG      Asia  Afghanistan  2020-02-24          1.0        1.0   \n",
       "1      AFG      Asia  Afghanistan  2020-02-25          1.0        0.0   \n",
       "2      AFG      Asia  Afghanistan  2020-02-26          1.0        0.0   \n",
       "3      AFG      Asia  Afghanistan  2020-02-27          1.0        0.0   \n",
       "\n",
       "   new_cases_smoothed  total_deaths  new_deaths  new_deaths_smoothed  \\\n",
       "0                 NaN           NaN         NaN                  NaN   \n",
       "1                 NaN           NaN         NaN                  NaN   \n",
       "2                 NaN           NaN         NaN                  NaN   \n",
       "3                 NaN           NaN         NaN                  NaN   \n",
       "\n",
       "            ...             gdp_per_capita  extreme_poverty  \\\n",
       "0           ...                   1803.987              NaN   \n",
       "1           ...                   1803.987              NaN   \n",
       "2           ...                   1803.987              NaN   \n",
       "3           ...                   1803.987              NaN   \n",
       "\n",
       "   cardiovasc_death_rate  diabetes_prevalence  female_smokers  male_smokers  \\\n",
       "0                597.029                 9.59             NaN           NaN   \n",
       "1                597.029                 9.59             NaN           NaN   \n",
       "2                597.029                 9.59             NaN           NaN   \n",
       "3                597.029                 9.59             NaN           NaN   \n",
       "\n",
       "   handwashing_facilities  hospital_beds_per_thousand  life_expectancy  \\\n",
       "0                  37.746                         0.5            64.83   \n",
       "1                  37.746                         0.5            64.83   \n",
       "2                  37.746                         0.5            64.83   \n",
       "3                  37.746                         0.5            64.83   \n",
       "\n",
       "   human_development_index  \n",
       "0                    0.511  \n",
       "1                    0.511  \n",
       "2                    0.511  \n",
       "3                    0.511  \n",
       "\n",
       "[4 rows x 59 columns]"
      ]
     },
     "execution_count": 27,
     "metadata": {},
     "output_type": "execute_result"
    }
   ],
   "source": [
    "#Let's see what the overall pandemic situation dateset looks like\n",
    "df_pan.head(4)"
   ]
  },
  {
   "cell_type": "code",
   "execution_count": 28,
   "metadata": {},
   "outputs": [
    {
     "data": {
      "text/plain": [
       "(72295, 59)"
      ]
     },
     "execution_count": 28,
     "metadata": {},
     "output_type": "execute_result"
    }
   ],
   "source": [
    "df_pan.shape"
   ]
  },
  {
   "cell_type": "code",
   "execution_count": 29,
   "metadata": {},
   "outputs": [
    {
     "data": {
      "text/plain": [
       "iso_code                                 0.000000\n",
       "location                                 0.000000\n",
       "date                                     0.000000\n",
       "population                               0.005519\n",
       "total_cases                              0.013334\n",
       "new_cases                                0.013362\n",
       "total_cases_per_million                  0.018729\n",
       "new_cases_per_million                    0.018756\n",
       "new_cases_smoothed                       0.027208\n",
       "new_deaths_smoothed                      0.027208\n",
       "new_deaths_smoothed_per_million          0.032533\n",
       "new_cases_smoothed_per_million           0.032533\n",
       "continent                                0.049644\n",
       "life_expectancy                          0.049754\n",
       "population_density                       0.065330\n",
       "diabetes_prevalence                      0.067819\n",
       "cardiovasc_death_rate                    0.079286\n",
       "human_development_index                  0.079591\n",
       "gdp_per_capita                           0.087765\n",
       "median_age                               0.090241\n",
       "aged_70_older                            0.095373\n",
       "aged_65_older                            0.100726\n",
       "new_deaths                               0.137036\n",
       "total_deaths                             0.139221\n",
       "stringency_index                         0.139498\n",
       "new_deaths_per_million                   0.142251\n",
       "total_deaths_per_million                 0.144436\n",
       "hospital_beds_per_thousand               0.156442\n",
       "reproduction_rate                        0.197662\n",
       "female_smokers                           0.275441\n",
       "male_smokers                             0.285386\n",
       "extreme_poverty                          0.376873\n",
       "tests_units                              0.463863\n",
       "new_tests_smoothed                       0.481804\n",
       "new_tests_smoothed_per_thousand          0.481804\n",
       "positive_rate                            0.498914\n",
       "tests_per_case                           0.506536\n",
       "handwashing_facilities                   0.537976\n",
       "new_tests_per_thousand                   0.545446\n",
       "new_tests                                0.545446\n",
       "total_tests_per_thousand                 0.547576\n",
       "total_tests                              0.547576\n",
       "hosp_patients_per_million                0.873338\n",
       "hosp_patients                            0.873338\n",
       "icu_patients_per_million                 0.894695\n",
       "icu_patients                             0.894695\n",
       "new_vaccinations_smoothed_per_million    0.939470\n",
       "new_vaccinations_smoothed                0.939470\n",
       "total_vaccinations_per_hundred           0.958752\n",
       "total_vaccinations                       0.958752\n",
       "people_vaccinated_per_hundred            0.965101\n",
       "people_vaccinated                        0.965101\n",
       "new_vaccinations                         0.965157\n",
       "people_fully_vaccinated_per_hundred      0.977191\n",
       "people_fully_vaccinated                  0.977191\n",
       "weekly_hosp_admissions_per_million       0.983650\n",
       "weekly_hosp_admissions                   0.983650\n",
       "weekly_icu_admissions_per_million        0.990082\n",
       "weekly_icu_admissions                    0.990082\n",
       "dtype: float64"
      ]
     },
     "execution_count": 29,
     "metadata": {},
     "output_type": "execute_result"
    }
   ],
   "source": [
    "(df_pan.isnull().sum()/len(df_pan)).sort_values()"
   ]
  },
  {
   "cell_type": "markdown",
   "metadata": {},
   "source": [
    "### Interpration of the pandemic situation dataset\n",
    "\n",
    "This is a very extensive dateset. The covid-19 situation is updated on a daily basis for each country. The amount of information is a little bit overwhelming, so for a starting point lets just focus on the main points total_cases_per_million and total_deaths_per_million."
   ]
  },
  {
   "cell_type": "code",
   "execution_count": 30,
   "metadata": {},
   "outputs": [
    {
     "data": {
      "text/html": [
       "<div>\n",
       "<style scoped>\n",
       "    .dataframe tbody tr th:only-of-type {\n",
       "        vertical-align: middle;\n",
       "    }\n",
       "\n",
       "    .dataframe tbody tr th {\n",
       "        vertical-align: top;\n",
       "    }\n",
       "\n",
       "    .dataframe thead th {\n",
       "        text-align: right;\n",
       "    }\n",
       "</style>\n",
       "<table border=\"1\" class=\"dataframe\">\n",
       "  <thead>\n",
       "    <tr style=\"text-align: right;\">\n",
       "      <th></th>\n",
       "      <th>DEMO_IND</th>\n",
       "      <th>Indicator</th>\n",
       "      <th>LOCATION</th>\n",
       "      <th>Country</th>\n",
       "      <th>TIME</th>\n",
       "      <th>Time</th>\n",
       "      <th>Value</th>\n",
       "      <th>Flag Codes</th>\n",
       "      <th>Flags</th>\n",
       "    </tr>\n",
       "  </thead>\n",
       "  <tbody>\n",
       "    <tr>\n",
       "      <th>0</th>\n",
       "      <td>SP_DYN_TFRT_IN</td>\n",
       "      <td>Fertility rate, total (births per woman)</td>\n",
       "      <td>AUS</td>\n",
       "      <td>Australia</td>\n",
       "      <td>1970</td>\n",
       "      <td>1970</td>\n",
       "      <td>2.859</td>\n",
       "      <td>NaN</td>\n",
       "      <td>NaN</td>\n",
       "    </tr>\n",
       "    <tr>\n",
       "      <th>1</th>\n",
       "      <td>SP_DYN_TFRT_IN</td>\n",
       "      <td>Fertility rate, total (births per woman)</td>\n",
       "      <td>AUS</td>\n",
       "      <td>Australia</td>\n",
       "      <td>1971</td>\n",
       "      <td>1971</td>\n",
       "      <td>2.961</td>\n",
       "      <td>NaN</td>\n",
       "      <td>NaN</td>\n",
       "    </tr>\n",
       "    <tr>\n",
       "      <th>2</th>\n",
       "      <td>SP_DYN_TFRT_IN</td>\n",
       "      <td>Fertility rate, total (births per woman)</td>\n",
       "      <td>AUS</td>\n",
       "      <td>Australia</td>\n",
       "      <td>1972</td>\n",
       "      <td>1972</td>\n",
       "      <td>2.744</td>\n",
       "      <td>NaN</td>\n",
       "      <td>NaN</td>\n",
       "    </tr>\n",
       "    <tr>\n",
       "      <th>3</th>\n",
       "      <td>SP_DYN_TFRT_IN</td>\n",
       "      <td>Fertility rate, total (births per woman)</td>\n",
       "      <td>AUS</td>\n",
       "      <td>Australia</td>\n",
       "      <td>1973</td>\n",
       "      <td>1973</td>\n",
       "      <td>2.491</td>\n",
       "      <td>NaN</td>\n",
       "      <td>NaN</td>\n",
       "    </tr>\n",
       "  </tbody>\n",
       "</table>\n",
       "</div>"
      ],
      "text/plain": [
       "         DEMO_IND                                 Indicator LOCATION  \\\n",
       "0  SP_DYN_TFRT_IN  Fertility rate, total (births per woman)      AUS   \n",
       "1  SP_DYN_TFRT_IN  Fertility rate, total (births per woman)      AUS   \n",
       "2  SP_DYN_TFRT_IN  Fertility rate, total (births per woman)      AUS   \n",
       "3  SP_DYN_TFRT_IN  Fertility rate, total (births per woman)      AUS   \n",
       "\n",
       "     Country  TIME  Time  Value Flag Codes Flags  \n",
       "0  Australia  1970  1970  2.859        NaN   NaN  \n",
       "1  Australia  1971  1971  2.961        NaN   NaN  \n",
       "2  Australia  1972  1972  2.744        NaN   NaN  \n",
       "3  Australia  1973  1973  2.491        NaN   NaN  "
      ]
     },
     "execution_count": 30,
     "metadata": {},
     "output_type": "execute_result"
    }
   ],
   "source": [
    "#Last we should check how the demographic and socio-economic dataset looks like\n",
    "df_dem.head(4)"
   ]
  },
  {
   "cell_type": "code",
   "execution_count": 31,
   "metadata": {},
   "outputs": [
    {
     "data": {
      "text/plain": [
       "(270038, 9)"
      ]
     },
     "execution_count": 31,
     "metadata": {},
     "output_type": "execute_result"
    }
   ],
   "source": [
    "df_dem.shape"
   ]
  },
  {
   "cell_type": "code",
   "execution_count": 32,
   "metadata": {},
   "outputs": [
    {
     "data": {
      "text/plain": [
       "DEMO_IND      0.000000\n",
       "Indicator     0.000000\n",
       "LOCATION      0.000000\n",
       "Country       0.000000\n",
       "TIME          0.000000\n",
       "Time          0.000000\n",
       "Value         0.007651\n",
       "Flag Codes    0.992349\n",
       "Flags         0.992349\n",
       "dtype: float64"
      ]
     },
     "execution_count": 32,
     "metadata": {},
     "output_type": "execute_result"
    }
   ],
   "source": [
    "(df_dem.isnull().sum()/len(df_dem)).sort_values()"
   ]
  },
  {
   "cell_type": "markdown",
   "metadata": {},
   "source": [
    "### Interpration of the democraphic and socio-ecomomics data set\n",
    "\n",
    "The way the data is stored, is not the same schema like the other datasets use.\n",
    "Right now, it has for every indicator and year of a specific country a own row.\n",
    "For better usability it should be pivoted to be in the same format as the other datasets."
   ]
  },
  {
   "cell_type": "markdown",
   "metadata": {},
   "source": [
    "## Data Preparation\n",
    "\n",
    "First we prepare the single dataframes\n",
    "\n",
    "Later we should join them, to make it easier to answer our questions"
   ]
  },
  {
   "cell_type": "code",
   "execution_count": 33,
   "metadata": {},
   "outputs": [],
   "source": [
    "# to evaluate the progress from the status of the vaccinations we only need the most \n",
    "# current total_vaccinations_per_hunderd and the total_vaccination columns with the associated country\n",
    "# In this case the moste current is the max value so we aggregate for the max value\n",
    "\n",
    "df_vac_agg = df_vac.groupby(['country']).agg({'total_vaccinations_per_hundred': ['max'], 'total_vaccinations':['max']}).reset_index()\n",
    "df_vac_agg.columns = ['country', 'total_vaccinations_per_hundred', 'total_vaccinations']\n"
   ]
  },
  {
   "cell_type": "code",
   "execution_count": 34,
   "metadata": {},
   "outputs": [
    {
     "data": {
      "text/plain": [
       "country                           0\n",
       "total_vaccinations_per_hundred    0\n",
       "total_vaccinations                0\n",
       "dtype: int64"
      ]
     },
     "execution_count": 34,
     "metadata": {},
     "output_type": "execute_result"
    }
   ],
   "source": [
    "#no nan values left to handle\n",
    "df_vac_agg.isnull().sum()"
   ]
  },
  {
   "cell_type": "code",
   "execution_count": 35,
   "metadata": {},
   "outputs": [
    {
     "data": {
      "text/plain": [
       "<matplotlib.axes._subplots.AxesSubplot at 0x1cda342d208>"
      ]
     },
     "execution_count": 35,
     "metadata": {},
     "output_type": "execute_result"
    },
    {
     "data": {
      "image/png": "[encoded data removed]",
      "text/plain": [
       "<matplotlib.figure.Figure at 0x1cda342deb8>"
      ]
     },
     "metadata": {},
     "output_type": "display_data"
    }
   ],
   "source": [
    "#figsize\n",
    "plt.figure(figsize=(14,25))\n",
    "\n",
    "# Add title\n",
    "plt.title(\"Total vaccinations per hundred for each country\")\n",
    "\n",
    "#plot barplot to show each country\n",
    "sns.barplot(y=\"country\", x=\"total_vaccinations_per_hundred\", data=df_vac_agg )"
   ]
  },
  {
   "cell_type": "code",
   "execution_count": 36,
   "metadata": {},
   "outputs": [],
   "source": [
    "#Gibraltar is a stark outlier, has just round about 33000 inhabitants and a very special status\n",
    "#Therefore it should be removed to not influence the result of the further analysis\n",
    "df_vac_agg = df_vac_agg[(df_vac_agg.country != \"Gibraltar\")]"
   ]
  },
  {
   "cell_type": "code",
   "execution_count": 37,
   "metadata": {},
   "outputs": [
    {
     "data": {
      "text/plain": [
       "country    0\n",
       "score      0\n",
       "dtype: int64"
      ]
     },
     "execution_count": 37,
     "metadata": {},
     "output_type": "execute_result"
    }
   ],
   "source": [
    "#Now Prepare the happiness data set\n",
    "#For my current business questions only the Happiness score is relevant\n",
    "df_hap = df_hap[[\"Country or region\", \"Score\"]]\n",
    "df_hap.columns = [\"country\", \"score\"]\n",
    "\n",
    "#no nan values to handle\n",
    "df_hap.isnull().sum()"
   ]
  },
  {
   "cell_type": "code",
   "execution_count": 38,
   "metadata": {},
   "outputs": [],
   "source": [
    "#great now we can prepare the pandemic situation dataset\n",
    "#similar to the vaccination dataset we are only interested in the most current information\n",
    "#as we just use the total cases and deaths per million we can use the same strategy as with the vaccination data\n",
    "#additionally we need the popultation column for further analysis\n",
    "df_pan_agg = df_pan.groupby(['continent', 'location']).agg({'total_deaths_per_million': ['max'], 'total_cases_per_million': ['max'], 'population': ['max']}).reset_index()\n",
    "df_pan_agg.columns = ['continent', 'country', 'total_deaths_per_million', 'total_cases_per_million','population']"
   ]
  },
  {
   "cell_type": "code",
   "execution_count": 39,
   "metadata": {},
   "outputs": [
    {
     "data": {
      "text/plain": [
       "continent                    0\n",
       "country                      0\n",
       "total_deaths_per_million    25\n",
       "total_cases_per_million     14\n",
       "population                   0\n",
       "dtype: int64"
      ]
     },
     "execution_count": 39,
     "metadata": {},
     "output_type": "execute_result"
    }
   ],
   "source": [
    "#there are some null values\n",
    "df_pan_agg.isnull().sum()"
   ]
  },
  {
   "cell_type": "code",
   "execution_count": 40,
   "metadata": {},
   "outputs": [
    {
     "data": {
      "text/html": [
       "<div>\n",
       "<style scoped>\n",
       "    .dataframe tbody tr th:only-of-type {\n",
       "        vertical-align: middle;\n",
       "    }\n",
       "\n",
       "    .dataframe tbody tr th {\n",
       "        vertical-align: top;\n",
       "    }\n",
       "\n",
       "    .dataframe thead th {\n",
       "        text-align: right;\n",
       "    }\n",
       "</style>\n",
       "<table border=\"1\" class=\"dataframe\">\n",
       "  <thead>\n",
       "    <tr style=\"text-align: right;\">\n",
       "      <th></th>\n",
       "      <th>continent</th>\n",
       "      <th>country</th>\n",
       "      <th>total_deaths_per_million</th>\n",
       "      <th>total_cases_per_million</th>\n",
       "      <th>population</th>\n",
       "    </tr>\n",
       "  </thead>\n",
       "  <tbody>\n",
       "    <tr>\n",
       "      <th>40</th>\n",
       "      <td>Africa</td>\n",
       "      <td>Saint Helena</td>\n",
       "      <td>NaN</td>\n",
       "      <td>NaN</td>\n",
       "      <td>6071.0</td>\n",
       "    </tr>\n",
       "    <tr>\n",
       "      <th>65</th>\n",
       "      <td>Asia</td>\n",
       "      <td>Hong Kong</td>\n",
       "      <td>NaN</td>\n",
       "      <td>NaN</td>\n",
       "      <td>7496988.0</td>\n",
       "    </tr>\n",
       "    <tr>\n",
       "      <th>78</th>\n",
       "      <td>Asia</td>\n",
       "      <td>Macao</td>\n",
       "      <td>NaN</td>\n",
       "      <td>NaN</td>\n",
       "      <td>649342.0</td>\n",
       "    </tr>\n",
       "    <tr>\n",
       "      <th>115</th>\n",
       "      <td>Europe</td>\n",
       "      <td>Faeroe Islands</td>\n",
       "      <td>NaN</td>\n",
       "      <td>NaN</td>\n",
       "      <td>48865.0</td>\n",
       "    </tr>\n",
       "    <tr>\n",
       "      <th>119</th>\n",
       "      <td>Europe</td>\n",
       "      <td>Gibraltar</td>\n",
       "      <td>NaN</td>\n",
       "      <td>NaN</td>\n",
       "      <td>33691.0</td>\n",
       "    </tr>\n",
       "    <tr>\n",
       "      <th>121</th>\n",
       "      <td>Europe</td>\n",
       "      <td>Guernsey</td>\n",
       "      <td>NaN</td>\n",
       "      <td>NaN</td>\n",
       "      <td>67052.0</td>\n",
       "    </tr>\n",
       "    <tr>\n",
       "      <th>125</th>\n",
       "      <td>Europe</td>\n",
       "      <td>Isle of Man</td>\n",
       "      <td>NaN</td>\n",
       "      <td>NaN</td>\n",
       "      <td>85032.0</td>\n",
       "    </tr>\n",
       "    <tr>\n",
       "      <th>127</th>\n",
       "      <td>Europe</td>\n",
       "      <td>Jersey</td>\n",
       "      <td>NaN</td>\n",
       "      <td>NaN</td>\n",
       "      <td>101073.0</td>\n",
       "    </tr>\n",
       "    <tr>\n",
       "      <th>154</th>\n",
       "      <td>North America</td>\n",
       "      <td>Anguilla</td>\n",
       "      <td>NaN</td>\n",
       "      <td>NaN</td>\n",
       "      <td>15002.0</td>\n",
       "    </tr>\n",
       "    <tr>\n",
       "      <th>159</th>\n",
       "      <td>North America</td>\n",
       "      <td>Bermuda</td>\n",
       "      <td>NaN</td>\n",
       "      <td>NaN</td>\n",
       "      <td>62273.0</td>\n",
       "    </tr>\n",
       "    <tr>\n",
       "      <th>161</th>\n",
       "      <td>North America</td>\n",
       "      <td>Cayman Islands</td>\n",
       "      <td>NaN</td>\n",
       "      <td>NaN</td>\n",
       "      <td>65720.0</td>\n",
       "    </tr>\n",
       "    <tr>\n",
       "      <th>167</th>\n",
       "      <td>North America</td>\n",
       "      <td>Greenland</td>\n",
       "      <td>NaN</td>\n",
       "      <td>NaN</td>\n",
       "      <td>56772.0</td>\n",
       "    </tr>\n",
       "    <tr>\n",
       "      <th>180</th>\n",
       "      <td>North America</td>\n",
       "      <td>Turks and Caicos Islands</td>\n",
       "      <td>NaN</td>\n",
       "      <td>NaN</td>\n",
       "      <td>38718.0</td>\n",
       "    </tr>\n",
       "    <tr>\n",
       "      <th>197</th>\n",
       "      <td>South America</td>\n",
       "      <td>Falkland Islands</td>\n",
       "      <td>NaN</td>\n",
       "      <td>NaN</td>\n",
       "      <td>3483.0</td>\n",
       "    </tr>\n",
       "  </tbody>\n",
       "</table>\n",
       "</div>"
      ],
      "text/plain": [
       "         continent                   country  total_deaths_per_million  \\\n",
       "40          Africa              Saint Helena                       NaN   \n",
       "65            Asia                 Hong Kong                       NaN   \n",
       "78            Asia                     Macao                       NaN   \n",
       "115         Europe            Faeroe Islands                       NaN   \n",
       "119         Europe                 Gibraltar                       NaN   \n",
       "121         Europe                  Guernsey                       NaN   \n",
       "125         Europe               Isle of Man                       NaN   \n",
       "127         Europe                    Jersey                       NaN   \n",
       "154  North America                  Anguilla                       NaN   \n",
       "159  North America                   Bermuda                       NaN   \n",
       "161  North America            Cayman Islands                       NaN   \n",
       "167  North America                 Greenland                       NaN   \n",
       "180  North America  Turks and Caicos Islands                       NaN   \n",
       "197  South America          Falkland Islands                       NaN   \n",
       "\n",
       "     total_cases_per_million  population  \n",
       "40                       NaN      6071.0  \n",
       "65                       NaN   7496988.0  \n",
       "78                       NaN    649342.0  \n",
       "115                      NaN     48865.0  \n",
       "119                      NaN     33691.0  \n",
       "121                      NaN     67052.0  \n",
       "125                      NaN     85032.0  \n",
       "127                      NaN    101073.0  \n",
       "154                      NaN     15002.0  \n",
       "159                      NaN     62273.0  \n",
       "161                      NaN     65720.0  \n",
       "167                      NaN     56772.0  \n",
       "180                      NaN     38718.0  \n",
       "197                      NaN      3483.0  "
      ]
     },
     "execution_count": 40,
     "metadata": {},
     "output_type": "execute_result"
    }
   ],
   "source": [
    "#lets take a closer look where the null values are located\n",
    "#For total cases:\n",
    "df_pan_agg[df_pan_agg[\"total_cases_per_million\"].isnull()]"
   ]
  },
  {
   "cell_type": "code",
   "execution_count": 41,
   "metadata": {},
   "outputs": [
    {
     "data": {
      "text/html": [
       "<div>\n",
       "<style scoped>\n",
       "    .dataframe tbody tr th:only-of-type {\n",
       "        vertical-align: middle;\n",
       "    }\n",
       "\n",
       "    .dataframe tbody tr th {\n",
       "        vertical-align: top;\n",
       "    }\n",
       "\n",
       "    .dataframe thead th {\n",
       "        text-align: right;\n",
       "    }\n",
       "</style>\n",
       "<table border=\"1\" class=\"dataframe\">\n",
       "  <thead>\n",
       "    <tr style=\"text-align: right;\">\n",
       "      <th></th>\n",
       "      <th>continent</th>\n",
       "      <th>country</th>\n",
       "      <th>total_deaths_per_million</th>\n",
       "      <th>total_cases_per_million</th>\n",
       "      <th>population</th>\n",
       "    </tr>\n",
       "  </thead>\n",
       "  <tbody>\n",
       "    <tr>\n",
       "      <th>40</th>\n",
       "      <td>Africa</td>\n",
       "      <td>Saint Helena</td>\n",
       "      <td>NaN</td>\n",
       "      <td>NaN</td>\n",
       "      <td>6071.0</td>\n",
       "    </tr>\n",
       "    <tr>\n",
       "      <th>62</th>\n",
       "      <td>Asia</td>\n",
       "      <td>Cambodia</td>\n",
       "      <td>NaN</td>\n",
       "      <td>52.515</td>\n",
       "      <td>16718971.0</td>\n",
       "    </tr>\n",
       "    <tr>\n",
       "      <th>65</th>\n",
       "      <td>Asia</td>\n",
       "      <td>Hong Kong</td>\n",
       "      <td>NaN</td>\n",
       "      <td>NaN</td>\n",
       "      <td>7496988.0</td>\n",
       "    </tr>\n",
       "    <tr>\n",
       "      <th>76</th>\n",
       "      <td>Asia</td>\n",
       "      <td>Laos</td>\n",
       "      <td>NaN</td>\n",
       "      <td>6.185</td>\n",
       "      <td>7275556.0</td>\n",
       "    </tr>\n",
       "    <tr>\n",
       "      <th>78</th>\n",
       "      <td>Asia</td>\n",
       "      <td>Macao</td>\n",
       "      <td>NaN</td>\n",
       "      <td>NaN</td>\n",
       "      <td>649342.0</td>\n",
       "    </tr>\n",
       "    <tr>\n",
       "      <th>97</th>\n",
       "      <td>Asia</td>\n",
       "      <td>Timor</td>\n",
       "      <td>NaN</td>\n",
       "      <td>85.707</td>\n",
       "      <td>1318442.0</td>\n",
       "    </tr>\n",
       "    <tr>\n",
       "      <th>115</th>\n",
       "      <td>Europe</td>\n",
       "      <td>Faeroe Islands</td>\n",
       "      <td>NaN</td>\n",
       "      <td>NaN</td>\n",
       "      <td>48865.0</td>\n",
       "    </tr>\n",
       "    <tr>\n",
       "      <th>119</th>\n",
       "      <td>Europe</td>\n",
       "      <td>Gibraltar</td>\n",
       "      <td>NaN</td>\n",
       "      <td>NaN</td>\n",
       "      <td>33691.0</td>\n",
       "    </tr>\n",
       "    <tr>\n",
       "      <th>121</th>\n",
       "      <td>Europe</td>\n",
       "      <td>Guernsey</td>\n",
       "      <td>NaN</td>\n",
       "      <td>NaN</td>\n",
       "      <td>67052.0</td>\n",
       "    </tr>\n",
       "    <tr>\n",
       "      <th>125</th>\n",
       "      <td>Europe</td>\n",
       "      <td>Isle of Man</td>\n",
       "      <td>NaN</td>\n",
       "      <td>NaN</td>\n",
       "      <td>85032.0</td>\n",
       "    </tr>\n",
       "    <tr>\n",
       "      <th>127</th>\n",
       "      <td>Europe</td>\n",
       "      <td>Jersey</td>\n",
       "      <td>NaN</td>\n",
       "      <td>NaN</td>\n",
       "      <td>101073.0</td>\n",
       "    </tr>\n",
       "    <tr>\n",
       "      <th>153</th>\n",
       "      <td>Europe</td>\n",
       "      <td>Vatican</td>\n",
       "      <td>NaN</td>\n",
       "      <td>33374.536</td>\n",
       "      <td>809.0</td>\n",
       "    </tr>\n",
       "    <tr>\n",
       "      <th>154</th>\n",
       "      <td>North America</td>\n",
       "      <td>Anguilla</td>\n",
       "      <td>NaN</td>\n",
       "      <td>NaN</td>\n",
       "      <td>15002.0</td>\n",
       "    </tr>\n",
       "    <tr>\n",
       "      <th>159</th>\n",
       "      <td>North America</td>\n",
       "      <td>Bermuda</td>\n",
       "      <td>NaN</td>\n",
       "      <td>NaN</td>\n",
       "      <td>62273.0</td>\n",
       "    </tr>\n",
       "    <tr>\n",
       "      <th>161</th>\n",
       "      <td>North America</td>\n",
       "      <td>Cayman Islands</td>\n",
       "      <td>NaN</td>\n",
       "      <td>NaN</td>\n",
       "      <td>65720.0</td>\n",
       "    </tr>\n",
       "    <tr>\n",
       "      <th>164</th>\n",
       "      <td>North America</td>\n",
       "      <td>Dominica</td>\n",
       "      <td>NaN</td>\n",
       "      <td>2000.250</td>\n",
       "      <td>71991.0</td>\n",
       "    </tr>\n",
       "    <tr>\n",
       "      <th>167</th>\n",
       "      <td>North America</td>\n",
       "      <td>Greenland</td>\n",
       "      <td>NaN</td>\n",
       "      <td>NaN</td>\n",
       "      <td>56772.0</td>\n",
       "    </tr>\n",
       "    <tr>\n",
       "      <th>176</th>\n",
       "      <td>North America</td>\n",
       "      <td>Saint Kitts and Nevis</td>\n",
       "      <td>NaN</td>\n",
       "      <td>770.793</td>\n",
       "      <td>53192.0</td>\n",
       "    </tr>\n",
       "    <tr>\n",
       "      <th>180</th>\n",
       "      <td>North America</td>\n",
       "      <td>Turks and Caicos Islands</td>\n",
       "      <td>NaN</td>\n",
       "      <td>NaN</td>\n",
       "      <td>38718.0</td>\n",
       "    </tr>\n",
       "    <tr>\n",
       "      <th>184</th>\n",
       "      <td>Oceania</td>\n",
       "      <td>Marshall Islands</td>\n",
       "      <td>NaN</td>\n",
       "      <td>67.574</td>\n",
       "      <td>59194.0</td>\n",
       "    </tr>\n",
       "    <tr>\n",
       "      <th>185</th>\n",
       "      <td>Oceania</td>\n",
       "      <td>Micronesia (country)</td>\n",
       "      <td>NaN</td>\n",
       "      <td>8.694</td>\n",
       "      <td>115021.0</td>\n",
       "    </tr>\n",
       "    <tr>\n",
       "      <th>188</th>\n",
       "      <td>Oceania</td>\n",
       "      <td>Samoa</td>\n",
       "      <td>NaN</td>\n",
       "      <td>15.120</td>\n",
       "      <td>198410.0</td>\n",
       "    </tr>\n",
       "    <tr>\n",
       "      <th>189</th>\n",
       "      <td>Oceania</td>\n",
       "      <td>Solomon Islands</td>\n",
       "      <td>NaN</td>\n",
       "      <td>26.206</td>\n",
       "      <td>686878.0</td>\n",
       "    </tr>\n",
       "    <tr>\n",
       "      <th>190</th>\n",
       "      <td>Oceania</td>\n",
       "      <td>Vanuatu</td>\n",
       "      <td>NaN</td>\n",
       "      <td>3.256</td>\n",
       "      <td>307150.0</td>\n",
       "    </tr>\n",
       "    <tr>\n",
       "      <th>197</th>\n",
       "      <td>South America</td>\n",
       "      <td>Falkland Islands</td>\n",
       "      <td>NaN</td>\n",
       "      <td>NaN</td>\n",
       "      <td>3483.0</td>\n",
       "    </tr>\n",
       "  </tbody>\n",
       "</table>\n",
       "</div>"
      ],
      "text/plain": [
       "         continent                   country  total_deaths_per_million  \\\n",
       "40          Africa              Saint Helena                       NaN   \n",
       "62            Asia                  Cambodia                       NaN   \n",
       "65            Asia                 Hong Kong                       NaN   \n",
       "76            Asia                      Laos                       NaN   \n",
       "78            Asia                     Macao                       NaN   \n",
       "97            Asia                     Timor                       NaN   \n",
       "115         Europe            Faeroe Islands                       NaN   \n",
       "119         Europe                 Gibraltar                       NaN   \n",
       "121         Europe                  Guernsey                       NaN   \n",
       "125         Europe               Isle of Man                       NaN   \n",
       "127         Europe                    Jersey                       NaN   \n",
       "153         Europe                   Vatican                       NaN   \n",
       "154  North America                  Anguilla                       NaN   \n",
       "159  North America                   Bermuda                       NaN   \n",
       "161  North America            Cayman Islands                       NaN   \n",
       "164  North America                  Dominica                       NaN   \n",
       "167  North America                 Greenland                       NaN   \n",
       "176  North America     Saint Kitts and Nevis                       NaN   \n",
       "180  North America  Turks and Caicos Islands                       NaN   \n",
       "184        Oceania          Marshall Islands                       NaN   \n",
       "185        Oceania      Micronesia (country)                       NaN   \n",
       "188        Oceania                     Samoa                       NaN   \n",
       "189        Oceania           Solomon Islands                       NaN   \n",
       "190        Oceania                   Vanuatu                       NaN   \n",
       "197  South America          Falkland Islands                       NaN   \n",
       "\n",
       "     total_cases_per_million  population  \n",
       "40                       NaN      6071.0  \n",
       "62                    52.515  16718971.0  \n",
       "65                       NaN   7496988.0  \n",
       "76                     6.185   7275556.0  \n",
       "78                       NaN    649342.0  \n",
       "97                    85.707   1318442.0  \n",
       "115                      NaN     48865.0  \n",
       "119                      NaN     33691.0  \n",
       "121                      NaN     67052.0  \n",
       "125                      NaN     85032.0  \n",
       "127                      NaN    101073.0  \n",
       "153                33374.536       809.0  \n",
       "154                      NaN     15002.0  \n",
       "159                      NaN     62273.0  \n",
       "161                      NaN     65720.0  \n",
       "164                 2000.250     71991.0  \n",
       "167                      NaN     56772.0  \n",
       "176                  770.793     53192.0  \n",
       "180                      NaN     38718.0  \n",
       "184                   67.574     59194.0  \n",
       "185                    8.694    115021.0  \n",
       "188                   15.120    198410.0  \n",
       "189                   26.206    686878.0  \n",
       "190                    3.256    307150.0  \n",
       "197                      NaN      3483.0  "
      ]
     },
     "execution_count": 41,
     "metadata": {},
     "output_type": "execute_result"
    }
   ],
   "source": [
    "#and for total deaths\n",
    "df_pan_agg[df_pan_agg[\"total_deaths_per_million\"].isnull()]"
   ]
  },
  {
   "cell_type": "code",
   "execution_count": 42,
   "metadata": {},
   "outputs": [],
   "source": [
    "#handling the null values is a bit tricky \n",
    "#It seems that for the small countries of these, the nan indicates a zero\n",
    "#For Hong Kong and Macao it looks like the numbers aren't tracked seperatly and they are counted in China\n",
    "#The beste way should be, to delete these 2 rows and fill the rest of the nans with zeros\n",
    " \n",
    "df_pan_agg = df_pan_agg[(df_pan_agg.country != \"Hong Kong\")]\n",
    "df_pan_agg = df_pan_agg[(df_pan_agg.country != \"Macao\")]\n",
    "\n",
    "df_pan_agg = df_pan_agg.fillna(0)"
   ]
  },
  {
   "cell_type": "code",
   "execution_count": null,
   "metadata": {},
   "outputs": [],
   "source": []
  },
  {
   "cell_type": "code",
   "execution_count": 43,
   "metadata": {},
   "outputs": [],
   "source": [
    "#Now we can move on to the last dataset\n",
    "#As allready stated, we have to pivot it, to get it into the right format\n",
    "\n",
    "#The first step is to make sure, that we only have the most current date as we are only interested in the latest information\n",
    "df_dem_agg = df_dem.groupby(['Indicator', 'Country', 'Value']).agg({'TIME': ['max']}).reset_index()\n",
    "df_dem_agg.columns = ['indicator', 'country', 'value', 'Time']\n",
    "\n",
    "#the Time columns is no longer needed, therefore we drop it\n",
    "df_dem_agg = df_dem_agg.drop(columns=[\"Time\"])"
   ]
  },
  {
   "cell_type": "code",
   "execution_count": 44,
   "metadata": {},
   "outputs": [
    {
     "data": {
      "text/html": [
       "<div>\n",
       "<style scoped>\n",
       "    .dataframe tbody tr th:only-of-type {\n",
       "        vertical-align: middle;\n",
       "    }\n",
       "\n",
       "    .dataframe tbody tr th {\n",
       "        vertical-align: top;\n",
       "    }\n",
       "\n",
       "    .dataframe thead th {\n",
       "        text-align: right;\n",
       "    }\n",
       "</style>\n",
       "<table border=\"1\" class=\"dataframe\">\n",
       "  <thead>\n",
       "    <tr style=\"text-align: right;\">\n",
       "      <th></th>\n",
       "      <th>indicator</th>\n",
       "      <th>country</th>\n",
       "      <th>value</th>\n",
       "    </tr>\n",
       "  </thead>\n",
       "  <tbody>\n",
       "    <tr>\n",
       "      <th>0</th>\n",
       "      <td>DEC alternative conversion factor (LCU per US$)</td>\n",
       "      <td>Afghanistan</td>\n",
       "      <td>43.700</td>\n",
       "    </tr>\n",
       "    <tr>\n",
       "      <th>1</th>\n",
       "      <td>DEC alternative conversion factor (LCU per US$)</td>\n",
       "      <td>Afghanistan</td>\n",
       "      <td>44.100</td>\n",
       "    </tr>\n",
       "    <tr>\n",
       "      <th>2</th>\n",
       "      <td>DEC alternative conversion factor (LCU per US$)</td>\n",
       "      <td>Afghanistan</td>\n",
       "      <td>44.921</td>\n",
       "    </tr>\n",
       "  </tbody>\n",
       "</table>\n",
       "</div>"
      ],
      "text/plain": [
       "                                         indicator      country   value\n",
       "0  DEC alternative conversion factor (LCU per US$)  Afghanistan  43.700\n",
       "1  DEC alternative conversion factor (LCU per US$)  Afghanistan  44.100\n",
       "2  DEC alternative conversion factor (LCU per US$)  Afghanistan  44.921"
      ]
     },
     "execution_count": 44,
     "metadata": {},
     "output_type": "execute_result"
    }
   ],
   "source": [
    "df_dem_agg.head(3)"
   ]
  },
  {
   "cell_type": "code",
   "execution_count": 45,
   "metadata": {},
   "outputs": [],
   "source": [
    "#now we have to pivot the data. Each indicator should be a column. Then we have the same format as the other datasets\n",
    "df_dem_piv = pd.pivot_table(df_dem_agg, values='value', index=['country'],\n",
    "                    columns=['indicator'] ).reset_index()"
   ]
  },
  {
   "cell_type": "code",
   "execution_count": 46,
   "metadata": {},
   "outputs": [
    {
     "data": {
      "text/plain": [
       "indicator\n",
       "country                                                                     0.000000\n",
       "Population aged 65 years or older                                           0.017167\n",
       "Population aged 25-64 years                                                 0.017167\n",
       "Population aged 15-24 years                                                 0.017167\n",
       "Population aged 14 years or younger                                         0.017167\n",
       "Total population                                                            0.017167\n",
       "GDP (current LCU)                                                           0.068670\n",
       "Population growth (annual %)                                                0.072961\n",
       "GNI (current LCU)                                                           0.077253\n",
       "Official exchange rate (LCU per US$, period average)                        0.081545\n",
       "GDP per capita (current LCU)                                                0.090129\n",
       "GDP deflator (base year varies by country)                                  0.103004\n",
       "GDP growth (annual %)                                                       0.103004\n",
       "GDP per capita (current US$)                                                0.103004\n",
       "DEC alternative conversion factor (LCU per US$)                             0.103004\n",
       "GDP (constant LCU)                                                          0.103004\n",
       "GDP (current US$)                                                           0.103004\n",
       "Rural population (% of total population)                                    0.107296\n",
       "Life expectancy at birth, total (years)                                     0.111588\n",
       "Fertility rate, total (births per woman)                                    0.111588\n",
       "GNI per capita (current LCU)                                                0.111588\n",
       "PPP conversion factor, private consumption (LCU per international $)        0.124464\n",
       "GDP at market prices (constant 2010 US$)                                    0.133047\n",
       "PPP conversion factor, GDP (LCU per international $)                        0.141631\n",
       "GNI per capita, Atlas method (current US$)                                  0.141631\n",
       "General government total expenditure (current LCU)                          0.163090\n",
       "GDP, PPP (current international $)                                          0.163090\n",
       "GDP, PPP (constant 2011 international $)                                    0.163090\n",
       "GDP per capita, PPP (current international $)                               0.163090\n",
       "GDP per capita, PPP (constant 2011 international $)                         0.163090\n",
       "GNI per capita, PPP (current international $)                               0.171674\n",
       "Price level ratio of PPP conversion factor (GDP) to market exchange rate    0.171674\n",
       "Mortality rate, infant (per 1,000 live births)                              0.171674\n",
       "Poverty headcount ratio at $1.90 a day (PPP) (% of population)              0.326180\n",
       "Prevalence of HIV, total (% of population ages 15-49)                       0.416309\n",
       "Total debt service (% of GNI)                                               0.484979\n",
       "dtype: float64"
      ]
     },
     "execution_count": 46,
     "metadata": {},
     "output_type": "execute_result"
    }
   ],
   "source": [
    "#NAn values will be handled for the modeling dataframe (df_all)\n",
    "#Because of the small data sample we should be very catious at deleting rows. We dont want to loose any information needed\n",
    "(df_dem_piv.isnull().sum()/len(df_dem_piv)).sort_values()"
   ]
  },
  {
   "cell_type": "code",
   "execution_count": 47,
   "metadata": {},
   "outputs": [],
   "source": [
    "#join the dataframes to answer the questions \n",
    "#question 1 and 4\n",
    "df_pan_vac = pd.merge(df_pan_agg, df_vac_agg, on='country', how='inner')\n",
    "\n",
    "#question 2\n",
    "df_hap_vac = pd.merge(df_vac_agg, df_hap, on=\"country\", how=\"inner\")\n",
    "\n",
    "#question 3\n",
    "df_dem_vac = pd.merge(df_vac_agg, df_dem_piv, on=\"country\", how=\"inner\")"
   ]
  },
  {
   "cell_type": "markdown",
   "metadata": {},
   "source": [
    "### Modeling and Evaluation\n",
    "\n",
    "#### First Question:\n",
    "Is there a connection between pandemic status (how many infected/deaths) and vaccination progress?"
   ]
  },
  {
   "cell_type": "code",
   "execution_count": 48,
   "metadata": {},
   "outputs": [
    {
     "data": {
      "text/plain": [
       "Text(0.5,0,'Vaccinations per hundred')"
      ]
     },
     "execution_count": 48,
     "metadata": {},
     "output_type": "execute_result"
    },
    {
     "data": {
      "image/png": "[encoded data removed]",
      "text/plain": [
       "<matplotlib.figure.Figure at 0x1cda41a40b8>"
      ]
     },
     "metadata": {},
     "output_type": "display_data"
    }
   ],
   "source": [
    "#Plotting the data as a regplot, to see if there is a correlation\n",
    "plt.figure(figsize=(12,5))\n",
    "plt.title(\"Total cases per million and vaccinations per hundred compared with trendline\")\n",
    "\n",
    "sns.regplot(x=\"total_vaccinations_per_hundred\", y=\"total_cases_per_million\",data=df_pan_vac)\n",
    "\n",
    "plt.ylabel(\"Total cases per million\")\n",
    "plt.xlabel(\"Vaccinations per hundred\")\n"
   ]
  },
  {
   "cell_type": "code",
   "execution_count": 49,
   "metadata": {},
   "outputs": [
    {
     "data": {
      "text/plain": [
       "0.10613407144883304"
      ]
     },
     "execution_count": 49,
     "metadata": {},
     "output_type": "execute_result"
    }
   ],
   "source": [
    "#Calculating the correlation between these two variables\n",
    "df_pan_vac[\"total_vaccinations_per_hundred\"].corr(df_pan_vac[\"total_cases_per_million\"])"
   ]
  },
  {
   "cell_type": "code",
   "execution_count": 50,
   "metadata": {},
   "outputs": [
    {
     "data": {
      "text/plain": [
       "Text(0.5,0,'Vaccinations per hundred')"
      ]
     },
     "execution_count": 50,
     "metadata": {},
     "output_type": "execute_result"
    },
    {
     "data": {
      "image/png": "[encoded data removed]",
      "text/plain": [
       "<matplotlib.figure.Figure at 0x1cda42996d8>"
      ]
     },
     "metadata": {},
     "output_type": "display_data"
    }
   ],
   "source": [
    "#Plotting the data as a regplot, to see if there is a correlation\n",
    "plt.figure(figsize=(12,5))\n",
    "plt.title(\"Total deaths per million and vaccinations per hundred compared with trendline\")\n",
    "\n",
    "sns.regplot(x=\"total_vaccinations_per_hundred\", y=\"total_deaths_per_million\",data=df_pan_vac)\n",
    "\n",
    "plt.ylabel(\"Total deaths per million\")\n",
    "plt.xlabel(\"Vaccinations per hundred\")"
   ]
  },
  {
   "cell_type": "code",
   "execution_count": 51,
   "metadata": {},
   "outputs": [
    {
     "data": {
      "text/plain": [
       "-0.07506668778493086"
      ]
     },
     "execution_count": 51,
     "metadata": {},
     "output_type": "execute_result"
    }
   ],
   "source": [
    "#Calculating the correlation between these two variables\n",
    "df_pan_vac[\"total_vaccinations_per_hundred\"].corr(df_pan_vac[\"total_deaths_per_million\"])"
   ]
  },
  {
   "cell_type": "code",
   "execution_count": 52,
   "metadata": {},
   "outputs": [],
   "source": [
    "#It seems that the number of cases doesnt have any influence on the vaccination\n",
    "#The number of total deaths does show a little correlation, but you have to keep the outliers in mind "
   ]
  },
  {
   "cell_type": "markdown",
   "metadata": {},
   "source": [
    "#### Second question:\n",
    "Is the happiness Score affecting the vaccination situation?"
   ]
  },
  {
   "cell_type": "code",
   "execution_count": 53,
   "metadata": {},
   "outputs": [
    {
     "data": {
      "text/plain": [
       "Text(0.5,0,'Vaccinations per hundred')"
      ]
     },
     "execution_count": 53,
     "metadata": {},
     "output_type": "execute_result"
    },
    {
     "data": {
      "image/png": "[encoded data removed]",
      "text/plain": [
       "<matplotlib.figure.Figure at 0x1cda44df898>"
      ]
     },
     "metadata": {},
     "output_type": "display_data"
    }
   ],
   "source": [
    "#Plotting the data as a regplot, to see if there is a correlation\n",
    "plt.figure(figsize=(12,5))\n",
    "plt.title(\"Happiness score and vaccinations per hundred compared with trendline\")\n",
    "\n",
    "sns.regplot(x=\"total_vaccinations_per_hundred\", y=\"score\",data=df_hap_vac)\n",
    "\n",
    "plt.ylabel(\"Happiness Score\")\n",
    "plt.xlabel(\"Vaccinations per hundred\")"
   ]
  },
  {
   "cell_type": "code",
   "execution_count": 54,
   "metadata": {},
   "outputs": [
    {
     "data": {
      "text/plain": [
       "0.351075752281033"
      ]
     },
     "execution_count": 54,
     "metadata": {},
     "output_type": "execute_result"
    }
   ],
   "source": [
    "#Calculating the correlation between these two variables\n",
    "df_hap_vac[\"total_vaccinations_per_hundred\"].corr(df_hap_vac[\"score\"])"
   ]
  },
  {
   "cell_type": "code",
   "execution_count": 55,
   "metadata": {},
   "outputs": [],
   "source": [
    "# plt.figure(figsize=(12,5))\n",
    "# plt.title(\"Population aged over 65 and vaccinations per hundred compared with trendline\")\n",
    "\n",
    "# sns.regplot(x=\"total_vaccinations_per_hundred\", y=\"Population aged 65 years or older \",data=df_dem_vac)\n",
    "\n",
    "# plt.ylabel(\"Population aged 65 years and older\")\n",
    "# plt.xlabel(\"Vaccinations per hundred\")"
   ]
  },
  {
   "cell_type": "code",
   "execution_count": 56,
   "metadata": {},
   "outputs": [],
   "source": [
    "# df_dem_vac[\"total_vaccinations_per_hundred\"].corr(df_dem_vac[\"Population aged 65 years or older \"])"
   ]
  },
  {
   "cell_type": "markdown",
   "metadata": {},
   "source": [
    "#### Third questions:\n",
    "Does GDP per capita influence vaccination coverage?"
   ]
  },
  {
   "cell_type": "code",
   "execution_count": 57,
   "metadata": {},
   "outputs": [
    {
     "data": {
      "text/plain": [
       "Text(0.5,0,'Vaccinations per hundred')"
      ]
     },
     "execution_count": 57,
     "metadata": {},
     "output_type": "execute_result"
    },
    {
     "data": {
      "image/png": "[encoded data removed]",
      "text/plain": [
       "<matplotlib.figure.Figure at 0x1cda4d8e5c0>"
      ]
     },
     "metadata": {},
     "output_type": "display_data"
    }
   ],
   "source": [
    "#Plotting the data as a regplot, to see if there is a correlation\n",
    "plt.figure(figsize=(12,5))\n",
    "plt.title(\"GDP per capita and vaccinations per hundred compared with trendline\")\n",
    "\n",
    "sns.regplot(x=\"total_vaccinations_per_hundred\", y=\"GDP per capita (current US$)\",data=df_dem_vac)\n",
    "\n",
    "plt.ylabel(\"GDP per capita(US$)\")\n",
    "plt.xlabel(\"Vaccinations per hundred\")"
   ]
  },
  {
   "cell_type": "code",
   "execution_count": 58,
   "metadata": {},
   "outputs": [
    {
     "data": {
      "text/plain": [
       "0.20540051368824214"
      ]
     },
     "execution_count": 58,
     "metadata": {},
     "output_type": "execute_result"
    }
   ],
   "source": [
    "#Calculating the correlation between these two variables\n",
    "df_dem_vac[\"total_vaccinations_per_hundred\"].corr(df_dem_vac[\"GDP per capita (current US$)\"])"
   ]
  },
  {
   "cell_type": "markdown",
   "metadata": {},
   "source": [
    "#### Fourth question:\n",
    "Does the continent play a role?"
   ]
  },
  {
   "cell_type": "code",
   "execution_count": 59,
   "metadata": {},
   "outputs": [],
   "source": [
    "#preparing the dataframe for this question\n",
    "#group by continent, sum total_vaccination and population\n",
    "df_pan_vac_continent = df_pan_vac.groupby(['continent']).agg({'total_vaccinations': ['sum'], 'population': ['sum']}).reset_index()\n",
    "df_pan_vac_continent.columns = [\"continent\", \"total_vaccinations\", \"population\"]"
   ]
  },
  {
   "cell_type": "code",
   "execution_count": 60,
   "metadata": {},
   "outputs": [],
   "source": [
    "#calculate the ratio for contintents of total vaccinactions per hundred\n",
    "df_pan_vac_continent[\"total_vaccinations_per_hundred\"] = df_pan_vac_continent[\"total_vaccinations\"] / df_pan_vac_continent[\"population\"] / 100"
   ]
  },
  {
   "cell_type": "code",
   "execution_count": 61,
   "metadata": {},
   "outputs": [
    {
     "data": {
      "text/plain": [
       "Text(0.5,0,'Continent')"
      ]
     },
     "execution_count": 61,
     "metadata": {},
     "output_type": "execute_result"
    },
    {
     "data": {
      "image/png": "[encoded data removed]",
      "text/plain": [
       "<matplotlib.figure.Figure at 0x1cda4e0c6a0>"
      ]
     },
     "metadata": {},
     "output_type": "display_data"
    }
   ],
   "source": [
    "#plooting a barchart tp display the distribution of vaccination dependent on continent\n",
    "plt.figure(figsize=(14,5))\n",
    "\n",
    "sns.barplot(data=df_pan_vac_continent, x=\"continent\",y=\"total_vaccinations_per_hundred\")\n",
    "\n",
    "plt.ylabel(\"Vaccinations per hundred\")\n",
    "plt.xlabel(\"Continent\")"
   ]
  },
  {
   "cell_type": "code",
   "execution_count": null,
   "metadata": {},
   "outputs": [],
   "source": []
  },
  {
   "cell_type": "code",
   "execution_count": null,
   "metadata": {},
   "outputs": [],
   "source": []
  }
 ],
 "metadata": {
  "kernelspec": {
   "display_name": "Python 3",
   "language": "python",
   "name": "python3"
  },
  "language_info": {
   "codemirror_mode": {
    "name": "ipython",
    "version": 3
   },
   "file_extension": ".py",
   "mimetype": "text/x-python",
   "name": "python",
   "nbconvert_exporter": "python",
   "pygments_lexer": "ipython3",
   "version": "3.6.4"
  }
 },
 "nbformat": 4,
 "nbformat_minor": 2
}
